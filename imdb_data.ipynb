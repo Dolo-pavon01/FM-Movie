{
 "cells": [
  {
   "cell_type": "code",
   "execution_count": null,
   "metadata": {},
   "outputs": [],
   "source": [
    "using HTTP\n",
    "using CodecZlib\n",
    "using DataFrames\n",
    "using Mongoc"
   ]
  },
  {
   "cell_type": "code",
   "execution_count": null,
   "metadata": {},
   "outputs": [],
   "source": [
    "function  getDataFromURLFile(url_file)\n",
    "\n",
    "    i = 0 ;\n",
    "    while i < 5\n",
    "        try \n",
    "          \n",
    "            response =  HTTP.request(\"GET\", url_file);\n",
    "            body = response.body;\n",
    "            filehandler = GzipDecompressorStream(IOBuffer(body));\n",
    "            imdb_data =  collect(eachline(filehandler));\n",
    "            \n",
    "            return imdb_data;\n",
    "            \n",
    "            break\n",
    "        catch e\n",
    "            println(e);\n",
    "            i += 1;\n",
    "        end\n",
    "    end\n",
    "\n",
    "end"
   ]
  },
  {
   "cell_type": "code",
   "execution_count": null,
   "metadata": {},
   "outputs": [],
   "source": [
    "function get_imdb_payload(imdb_data, header)\n",
    "    imdb_data = Vector{Dict}()  # acá hay que ver si cambiar imdb por objeto BSon de Mongo\n",
    "    for data in imdb_data\n",
    "        subdata_imdb = Dict()\n",
    "        for (key, value) in zip(header, data)\n",
    "            println(key, value)\n",
    "            if occursin(r\"^[\\d(.)?]+$\", value)\n",
    "                value = parse.(Float64,value)\n",
    "            end\n",
    "            subdata_imdb[key] = value\n",
    "            \n",
    "        end\n",
    "        # println(subdata_mongo)\n",
    "        push!(imdb_data_data, subdata_imdb)\n",
    "        println(imdb_data_data)\n",
    "        \n",
    "    end\n",
    "    \n",
    "    return mongo_data\n",
    "end"
   ]
  },
  {
   "cell_type": "code",
   "execution_count": null,
   "metadata": {},
   "outputs": [],
   "source": [
    "function extract_imdb_data(imdb_file)\n",
    "    file_name = split(\"https://datasets.imdbws.com/title.ratings.tsv.gz\", \"/\")[end]\n",
    "    imdb_data  = getDataFromURLFile(imdb_file);\n",
    "    imdb_data = [split(x, \"\\t\") for x in imdb_data];\n",
    "    header = imdb_data[1];\n",
    "    deleteat!(imdb_data, 1);\n",
    "    imdb_payload = get_imdb_payload(imdb_data, header)\n",
    "    return imdb_payload\n",
    "end\n",
    "\n",
    "\n",
    "function proccess_imdb_files(imdb_files)\n",
    "    imdb_payloads = Vector{Vector{Dict}}()\n",
    "    for imdb_file in imdb_files\n",
    "        imdb_payload = extract_imdb_data(imdb_file)\n",
    "        push!(imdb_payloads, imdb_payload)\n",
    "        println(imdb_payloads)\n",
    "    end\n",
    "end\n"
   ]
  },
  {
   "cell_type": "code",
   "execution_count": null,
   "metadata": {},
   "outputs": [],
   "source": [
    "imdb_files = [\"https://datasets.imdbws.com/title.ratings.tsv.gz\"]"
   ]
  }
 ],
 "metadata": {
  "kernelspec": {
   "display_name": "Julia 1.10.3",
   "language": "julia",
   "name": "julia-1.10"
  },
  "language_info": {
   "file_extension": ".jl",
   "mimetype": "application/julia",
   "name": "julia",
   "version": "1.10.3"
  }
 },
 "nbformat": 4,
 "nbformat_minor": 2
}
