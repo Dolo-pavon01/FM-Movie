{
 "cells": [
  {
   "cell_type": "code",
   "execution_count": 1,
   "metadata": {},
   "outputs": [],
   "source": [
    "using HTTP\n",
    "using CodecZlib\n",
    "using DataFrames\n",
    "using Mongoc"
   ]
  },
  {
   "cell_type": "code",
   "execution_count": 2,
   "metadata": {},
   "outputs": [
    {
     "data": {
      "text/plain": [
       "getDataFromURLFile (generic function with 1 method)"
      ]
     },
     "metadata": {},
     "output_type": "display_data"
    }
   ],
   "source": [
    "function  getDataFromURLFile(url_file)\n",
    "\n",
    "    i = 0 ;\n",
    "    while i < 5\n",
    "        try \n",
    "          \n",
    "            response =  HTTP.request(\"GET\", url_file);\n",
    "            body = response.body;\n",
    "            filehandler = GzipDecompressorStream(IOBuffer(body));\n",
    "            imdb_data =  collect(eachline(filehandler));\n",
    "            \n",
    "            return imdb_data;\n",
    "            \n",
    "            break\n",
    "        catch e\n",
    "            println(e);\n",
    "            i += 1;\n",
    "        end\n",
    "    end\n",
    "\n",
    "end"
   ]
  },
  {
   "cell_type": "code",
   "execution_count": 3,
   "metadata": {},
   "outputs": [
    {
     "data": {
      "text/plain": [
       "\"https://datasets.imdbws.com/title.ratings.tsv.gz\""
      ]
     },
     "metadata": {},
     "output_type": "display_data"
    }
   ],
   "source": [
    "url_file = \"https://datasets.imdbws.com/title.ratings.tsv.gz\""
   ]
  },
  {
   "cell_type": "code",
   "execution_count": 4,
   "metadata": {},
   "outputs": [],
   "source": [
    "imdb_data  = getDataFromURLFile(url_file);"
   ]
  },
  {
   "cell_type": "code",
   "execution_count": 5,
   "metadata": {},
   "outputs": [],
   "source": [
    " #elimina el primer elemento del vector\n",
    "imdb_data = [split(x, \"\\t\") for x in imdb_data];\n",
    "header = imdb_data[1];\n",
    "deleteat!(imdb_data, 1);"
   ]
  },
  {
   "cell_type": "code",
   "execution_count": 6,
   "metadata": {},
   "outputs": [
    {
     "name": "stdout",
     "output_type": "stream",
     "text": [
      "tconsttt0000001\n",
      "averageRating5.7\n",
      "numVotes2055\n",
      "Dict{Any, Any}(\"tconst\" => \"tt0000001\", \"averageRating\" => 5.7, \"numVotes\" => 2055.0)\n",
      "Dict[Dict{Any, Any}(\"tconst\" => \"tt0000001\", \"averageRating\" => 5.7, \"numVotes\" => 2055.0)]\n"
     ]
    }
   ],
   "source": [
    "mongo_data = Vector{Dict}()\n",
    "for data in imdb_data\n",
    "    subdata_mongo = Dict()\n",
    "    for (key, value) in zip(header, data)\n",
    "        println(key, value)\n",
    "        if occursin(r\"^[\\d(.)?]+$\", value)\n",
    "            value = parse.(Float64,value)\n",
    "        end\n",
    "        subdata_mongo[key] = value\n",
    "        \n",
    "    end\n",
    "    println(subdata_mongo)\n",
    "    push!(mongo_data, subdata_mongo)\n",
    "    println(mongo_data)\n",
    "end\n"
   ]
  }
 ],
 "metadata": {
  "kernelspec": {
   "display_name": "Julia 1.10.3",
   "language": "julia",
   "name": "julia-1.10"
  },
  "language_info": {
   "file_extension": ".jl",
   "mimetype": "application/julia",
   "name": "julia",
   "version": "1.10.3"
  }
 },
 "nbformat": 4,
 "nbformat_minor": 2
}
